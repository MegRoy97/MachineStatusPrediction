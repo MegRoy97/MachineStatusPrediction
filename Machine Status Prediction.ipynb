{
 "cells": [
  {
   "cell_type": "code",
   "execution_count": 1,
   "id": "bb99d2b5",
   "metadata": {},
   "outputs": [],
   "source": [
    "# import required libraries\n",
    "import pandas as pd\n",
    "import numpy as np\n",
    "import matplotlib.pyplot as plt\n",
    "%matplotlib inline\n",
    "import seaborn as sns\n",
    "from sklearn import preprocessing\n",
    "from sklearn.metrics import confusion_matrix\n",
    "from sklearn.preprocessing import StandardScaler\n",
    "from sklearn.decomposition import PCA\n",
    "from sklearn.model_selection import train_test_split\n",
    "from sklearn.linear_model import LogisticRegression\n",
    "from sklearn.metrics import accuracy_score\n",
    "from sklearn.multioutput import MultiOutputClassifier\n",
    "from sklearn.pipeline import Pipeline"
   ]
  },
  {
   "cell_type": "markdown",
   "id": "2aecddec",
   "metadata": {},
   "source": [
    "<h1>Get Dataset</h1>"
   ]
  },
  {
   "cell_type": "code",
   "execution_count": 2,
   "id": "fef8190b",
   "metadata": {},
   "outputs": [],
   "source": [
    "# read csv file\n",
    "df = pd.read_csv(r'predictive_maintenance.csv', index_col='Product ID')"
   ]
  },
  {
   "cell_type": "code",
   "execution_count": 3,
   "id": "314e3ae5",
   "metadata": {},
   "outputs": [
    {
     "data": {
      "text/html": [
       "<div>\n",
       "<style scoped>\n",
       "    .dataframe tbody tr th:only-of-type {\n",
       "        vertical-align: middle;\n",
       "    }\n",
       "\n",
       "    .dataframe tbody tr th {\n",
       "        vertical-align: top;\n",
       "    }\n",
       "\n",
       "    .dataframe thead th {\n",
       "        text-align: right;\n",
       "    }\n",
       "</style>\n",
       "<table border=\"1\" class=\"dataframe\">\n",
       "  <thead>\n",
       "    <tr style=\"text-align: right;\">\n",
       "      <th></th>\n",
       "      <th>UDI</th>\n",
       "      <th>Type</th>\n",
       "      <th>Air temperature [K]</th>\n",
       "      <th>Process temperature [K]</th>\n",
       "      <th>Rotational speed [rpm]</th>\n",
       "      <th>Torque [Nm]</th>\n",
       "      <th>Tool wear [min]</th>\n",
       "      <th>Target</th>\n",
       "      <th>Failure Type</th>\n",
       "    </tr>\n",
       "    <tr>\n",
       "      <th>Product ID</th>\n",
       "      <th></th>\n",
       "      <th></th>\n",
       "      <th></th>\n",
       "      <th></th>\n",
       "      <th></th>\n",
       "      <th></th>\n",
       "      <th></th>\n",
       "      <th></th>\n",
       "      <th></th>\n",
       "    </tr>\n",
       "  </thead>\n",
       "  <tbody>\n",
       "    <tr>\n",
       "      <th>M14860</th>\n",
       "      <td>1</td>\n",
       "      <td>M</td>\n",
       "      <td>298.1</td>\n",
       "      <td>308.6</td>\n",
       "      <td>1551</td>\n",
       "      <td>42.8</td>\n",
       "      <td>0</td>\n",
       "      <td>0</td>\n",
       "      <td>No Failure</td>\n",
       "    </tr>\n",
       "    <tr>\n",
       "      <th>L47181</th>\n",
       "      <td>2</td>\n",
       "      <td>L</td>\n",
       "      <td>298.2</td>\n",
       "      <td>308.7</td>\n",
       "      <td>1408</td>\n",
       "      <td>46.3</td>\n",
       "      <td>3</td>\n",
       "      <td>0</td>\n",
       "      <td>No Failure</td>\n",
       "    </tr>\n",
       "    <tr>\n",
       "      <th>L47182</th>\n",
       "      <td>3</td>\n",
       "      <td>L</td>\n",
       "      <td>298.1</td>\n",
       "      <td>308.5</td>\n",
       "      <td>1498</td>\n",
       "      <td>49.4</td>\n",
       "      <td>5</td>\n",
       "      <td>0</td>\n",
       "      <td>No Failure</td>\n",
       "    </tr>\n",
       "    <tr>\n",
       "      <th>L47183</th>\n",
       "      <td>4</td>\n",
       "      <td>L</td>\n",
       "      <td>298.2</td>\n",
       "      <td>308.6</td>\n",
       "      <td>1433</td>\n",
       "      <td>39.5</td>\n",
       "      <td>7</td>\n",
       "      <td>0</td>\n",
       "      <td>No Failure</td>\n",
       "    </tr>\n",
       "    <tr>\n",
       "      <th>L47184</th>\n",
       "      <td>5</td>\n",
       "      <td>L</td>\n",
       "      <td>298.2</td>\n",
       "      <td>308.7</td>\n",
       "      <td>1408</td>\n",
       "      <td>40.0</td>\n",
       "      <td>9</td>\n",
       "      <td>0</td>\n",
       "      <td>No Failure</td>\n",
       "    </tr>\n",
       "  </tbody>\n",
       "</table>\n",
       "</div>"
      ],
      "text/plain": [
       "            UDI Type  Air temperature [K]  Process temperature [K]  \\\n",
       "Product ID                                                           \n",
       "M14860        1    M                298.1                    308.6   \n",
       "L47181        2    L                298.2                    308.7   \n",
       "L47182        3    L                298.1                    308.5   \n",
       "L47183        4    L                298.2                    308.6   \n",
       "L47184        5    L                298.2                    308.7   \n",
       "\n",
       "            Rotational speed [rpm]  Torque [Nm]  Tool wear [min]  Target  \\\n",
       "Product ID                                                                 \n",
       "M14860                        1551         42.8                0       0   \n",
       "L47181                        1408         46.3                3       0   \n",
       "L47182                        1498         49.4                5       0   \n",
       "L47183                        1433         39.5                7       0   \n",
       "L47184                        1408         40.0                9       0   \n",
       "\n",
       "           Failure Type  \n",
       "Product ID               \n",
       "M14860       No Failure  \n",
       "L47181       No Failure  \n",
       "L47182       No Failure  \n",
       "L47183       No Failure  \n",
       "L47184       No Failure  "
      ]
     },
     "execution_count": 3,
     "metadata": {},
     "output_type": "execute_result"
    }
   ],
   "source": [
    "df.head()"
   ]
  },
  {
   "cell_type": "markdown",
   "id": "688555c1",
   "metadata": {},
   "source": [
    "<h1>Data Preprocessing</h1>"
   ]
  },
  {
   "cell_type": "code",
   "execution_count": 4,
   "id": "3663becc",
   "metadata": {},
   "outputs": [],
   "source": [
    "df.drop(['UDI'], axis=1, inplace=True)"
   ]
  },
  {
   "cell_type": "code",
   "execution_count": 5,
   "id": "162ea697",
   "metadata": {},
   "outputs": [
    {
     "data": {
      "text/html": [
       "<div>\n",
       "<style scoped>\n",
       "    .dataframe tbody tr th:only-of-type {\n",
       "        vertical-align: middle;\n",
       "    }\n",
       "\n",
       "    .dataframe tbody tr th {\n",
       "        vertical-align: top;\n",
       "    }\n",
       "\n",
       "    .dataframe thead th {\n",
       "        text-align: right;\n",
       "    }\n",
       "</style>\n",
       "<table border=\"1\" class=\"dataframe\">\n",
       "  <thead>\n",
       "    <tr style=\"text-align: right;\">\n",
       "      <th></th>\n",
       "      <th>Type</th>\n",
       "      <th>Air temperature [K]</th>\n",
       "      <th>Process temperature [K]</th>\n",
       "      <th>Rotational speed [rpm]</th>\n",
       "      <th>Torque [Nm]</th>\n",
       "      <th>Tool wear [min]</th>\n",
       "      <th>Target</th>\n",
       "      <th>Failure Type</th>\n",
       "    </tr>\n",
       "    <tr>\n",
       "      <th>Product ID</th>\n",
       "      <th></th>\n",
       "      <th></th>\n",
       "      <th></th>\n",
       "      <th></th>\n",
       "      <th></th>\n",
       "      <th></th>\n",
       "      <th></th>\n",
       "      <th></th>\n",
       "    </tr>\n",
       "  </thead>\n",
       "  <tbody>\n",
       "    <tr>\n",
       "      <th>M14860</th>\n",
       "      <td>M</td>\n",
       "      <td>298.1</td>\n",
       "      <td>308.6</td>\n",
       "      <td>1551</td>\n",
       "      <td>42.8</td>\n",
       "      <td>0</td>\n",
       "      <td>0</td>\n",
       "      <td>No Failure</td>\n",
       "    </tr>\n",
       "    <tr>\n",
       "      <th>L47181</th>\n",
       "      <td>L</td>\n",
       "      <td>298.2</td>\n",
       "      <td>308.7</td>\n",
       "      <td>1408</td>\n",
       "      <td>46.3</td>\n",
       "      <td>3</td>\n",
       "      <td>0</td>\n",
       "      <td>No Failure</td>\n",
       "    </tr>\n",
       "    <tr>\n",
       "      <th>L47182</th>\n",
       "      <td>L</td>\n",
       "      <td>298.1</td>\n",
       "      <td>308.5</td>\n",
       "      <td>1498</td>\n",
       "      <td>49.4</td>\n",
       "      <td>5</td>\n",
       "      <td>0</td>\n",
       "      <td>No Failure</td>\n",
       "    </tr>\n",
       "    <tr>\n",
       "      <th>L47183</th>\n",
       "      <td>L</td>\n",
       "      <td>298.2</td>\n",
       "      <td>308.6</td>\n",
       "      <td>1433</td>\n",
       "      <td>39.5</td>\n",
       "      <td>7</td>\n",
       "      <td>0</td>\n",
       "      <td>No Failure</td>\n",
       "    </tr>\n",
       "    <tr>\n",
       "      <th>L47184</th>\n",
       "      <td>L</td>\n",
       "      <td>298.2</td>\n",
       "      <td>308.7</td>\n",
       "      <td>1408</td>\n",
       "      <td>40.0</td>\n",
       "      <td>9</td>\n",
       "      <td>0</td>\n",
       "      <td>No Failure</td>\n",
       "    </tr>\n",
       "  </tbody>\n",
       "</table>\n",
       "</div>"
      ],
      "text/plain": [
       "           Type  Air temperature [K]  Process temperature [K]  \\\n",
       "Product ID                                                      \n",
       "M14860        M                298.1                    308.6   \n",
       "L47181        L                298.2                    308.7   \n",
       "L47182        L                298.1                    308.5   \n",
       "L47183        L                298.2                    308.6   \n",
       "L47184        L                298.2                    308.7   \n",
       "\n",
       "            Rotational speed [rpm]  Torque [Nm]  Tool wear [min]  Target  \\\n",
       "Product ID                                                                 \n",
       "M14860                        1551         42.8                0       0   \n",
       "L47181                        1408         46.3                3       0   \n",
       "L47182                        1498         49.4                5       0   \n",
       "L47183                        1433         39.5                7       0   \n",
       "L47184                        1408         40.0                9       0   \n",
       "\n",
       "           Failure Type  \n",
       "Product ID               \n",
       "M14860       No Failure  \n",
       "L47181       No Failure  \n",
       "L47182       No Failure  \n",
       "L47183       No Failure  \n",
       "L47184       No Failure  "
      ]
     },
     "execution_count": 5,
     "metadata": {},
     "output_type": "execute_result"
    }
   ],
   "source": [
    "df.head()"
   ]
  },
  {
   "cell_type": "code",
   "execution_count": 6,
   "id": "a5b5b8df",
   "metadata": {},
   "outputs": [
    {
     "data": {
      "text/plain": [
       "Type                       0\n",
       "Air temperature [K]        0\n",
       "Process temperature [K]    0\n",
       "Rotational speed [rpm]     0\n",
       "Torque [Nm]                0\n",
       "Tool wear [min]            0\n",
       "Target                     0\n",
       "Failure Type               0\n",
       "dtype: int64"
      ]
     },
     "execution_count": 6,
     "metadata": {},
     "output_type": "execute_result"
    }
   ],
   "source": [
    "# check nulls for dataset\n",
    "df.isna().sum()"
   ]
  },
  {
   "cell_type": "code",
   "execution_count": 7,
   "id": "6161369a",
   "metadata": {},
   "outputs": [
    {
     "data": {
      "text/plain": [
       "array(['M', 'L', 'H'], dtype=object)"
      ]
     },
     "execution_count": 7,
     "metadata": {},
     "output_type": "execute_result"
    }
   ],
   "source": [
    "df.Type.unique()"
   ]
  },
  {
   "cell_type": "code",
   "execution_count": 8,
   "id": "ab932d20",
   "metadata": {},
   "outputs": [
    {
     "data": {
      "text/plain": [
       "0    9661\n",
       "1     339\n",
       "Name: Target, dtype: int64"
      ]
     },
     "execution_count": 8,
     "metadata": {},
     "output_type": "execute_result"
    }
   ],
   "source": [
    "df.Target.value_counts()"
   ]
  },
  {
   "cell_type": "markdown",
   "id": "11bc4882",
   "metadata": {},
   "source": [
    "Dataset is extremely skewed. 0 represents no failure, 1 represents failure"
   ]
  },
  {
   "cell_type": "code",
   "execution_count": 9,
   "id": "d4150eac",
   "metadata": {},
   "outputs": [
    {
     "data": {
      "text/plain": [
       "array(['No Failure', 'Power Failure', 'Tool Wear Failure',\n",
       "       'Overstrain Failure', 'Random Failures',\n",
       "       'Heat Dissipation Failure'], dtype=object)"
      ]
     },
     "execution_count": 9,
     "metadata": {},
     "output_type": "execute_result"
    }
   ],
   "source": [
    "df[\"Failure Type\"].unique()"
   ]
  },
  {
   "cell_type": "code",
   "execution_count": 10,
   "id": "c31bd7e9",
   "metadata": {},
   "outputs": [
    {
     "data": {
      "text/plain": [
       "No Failure                  9652\n",
       "Heat Dissipation Failure     112\n",
       "Power Failure                 95\n",
       "Overstrain Failure            78\n",
       "Tool Wear Failure             45\n",
       "Random Failures               18\n",
       "Name: Failure Type, dtype: int64"
      ]
     },
     "execution_count": 10,
     "metadata": {},
     "output_type": "execute_result"
    }
   ],
   "source": [
    "df['Failure Type'].value_counts()"
   ]
  },
  {
   "cell_type": "markdown",
   "id": "7fa986d6",
   "metadata": {},
   "source": [
    "Some values are marked incorrectly. After studying the CSV file, it is seen that Some Random Failures have been marked as 0 in Target when they should be marked as 1. And some failures where Target is marked as 1 (failure), Failure Type has been marked as 'No Failure'. We will correctly mark them"
   ]
  },
  {
   "cell_type": "code",
   "execution_count": 11,
   "id": "0dc0013b",
   "metadata": {},
   "outputs": [],
   "source": [
    "df.loc[(df['Failure Type']=='Random Failures'), 'Target']=1"
   ]
  },
  {
   "cell_type": "code",
   "execution_count": 12,
   "id": "b3bc9ad2",
   "metadata": {},
   "outputs": [],
   "source": [
    "df.loc[((df['Target']==1) & (df['Failure Type']=='No Failure')), 'Failure Type']='Random Failures'"
   ]
  },
  {
   "cell_type": "code",
   "execution_count": 13,
   "id": "fcdd1289",
   "metadata": {},
   "outputs": [
    {
     "data": {
      "text/plain": [
       "0    9643\n",
       "1     357\n",
       "Name: Target, dtype: int64"
      ]
     },
     "execution_count": 13,
     "metadata": {},
     "output_type": "execute_result"
    }
   ],
   "source": [
    "df.Target.value_counts()"
   ]
  },
  {
   "cell_type": "code",
   "execution_count": 14,
   "id": "750961d1",
   "metadata": {},
   "outputs": [
    {
     "data": {
      "text/plain": [
       "No Failure                  9643\n",
       "Heat Dissipation Failure     112\n",
       "Power Failure                 95\n",
       "Overstrain Failure            78\n",
       "Tool Wear Failure             45\n",
       "Random Failures               27\n",
       "Name: Failure Type, dtype: int64"
      ]
     },
     "execution_count": 14,
     "metadata": {},
     "output_type": "execute_result"
    }
   ],
   "source": [
    "df['Failure Type'].value_counts()"
   ]
  },
  {
   "cell_type": "markdown",
   "id": "243f4667",
   "metadata": {},
   "source": [
    "Now no. of failures in Target and 'No Failure' in Failure Type match"
   ]
  },
  {
   "cell_type": "code",
   "execution_count": 15,
   "id": "4ad181ce",
   "metadata": {},
   "outputs": [],
   "source": [
    "le = preprocessing.LabelEncoder()\n",
    "le.fit(df['Type'])\n",
    "df['Type'] = le.transform(df['Type'])"
   ]
  },
  {
   "cell_type": "code",
   "execution_count": 16,
   "id": "9ce0b3ad",
   "metadata": {},
   "outputs": [
    {
     "data": {
      "text/plain": [
       "array([1, 3, 5, 2, 4, 0])"
      ]
     },
     "execution_count": 16,
     "metadata": {},
     "output_type": "execute_result"
    }
   ],
   "source": [
    "le.fit(df['Failure Type'])\n",
    "df['Failure Type'] = le.transform(df['Failure Type'])\n",
    "df['Failure Type'].unique()"
   ]
  },
  {
   "cell_type": "code",
   "execution_count": 17,
   "id": "b2b90df3",
   "metadata": {},
   "outputs": [
    {
     "data": {
      "text/plain": [
       "Torque [Nm]                0.190050\n",
       "Tool wear [min]            0.104671\n",
       "Air temperature [K]        0.084217\n",
       "Process temperature [K]    0.039965\n",
       "Type                      -0.010045\n",
       "Rotational speed [rpm]    -0.045769\n",
       "Name: Target, dtype: float64"
      ]
     },
     "execution_count": 17,
     "metadata": {},
     "output_type": "execute_result"
    }
   ],
   "source": [
    "df_corr = df.corr()['Target'].sort_values(ascending=False).drop(['Target', 'Failure Type'])\n",
    "df_corr.head(10)"
   ]
  },
  {
   "cell_type": "code",
   "execution_count": 18,
   "id": "ed60f157",
   "metadata": {},
   "outputs": [
    {
     "data": {
      "text/plain": [
       "Tool wear [min]            0.109688\n",
       "Rotational speed [rpm]     0.076111\n",
       "Torque [Nm]                0.032085\n",
       "Process temperature [K]   -0.003570\n",
       "Type                      -0.006484\n",
       "Air temperature [K]       -0.023521\n",
       "Name: Failure Type, dtype: float64"
      ]
     },
     "execution_count": 18,
     "metadata": {},
     "output_type": "execute_result"
    }
   ],
   "source": [
    "df_corr = df.corr()['Failure Type'].sort_values(ascending=False).drop(['Target', 'Failure Type'])\n",
    "df_corr.head(10)"
   ]
  },
  {
   "cell_type": "code",
   "execution_count": 19,
   "id": "7602e977",
   "metadata": {},
   "outputs": [
    {
     "data": {
      "text/plain": [
       "Text(0.5, 42.0, 'Machine Maintenance Predictive data')"
      ]
     },
     "execution_count": 19,
     "metadata": {},
     "output_type": "execute_result"
    },
    {
     "data": {
      "image/png": "[encoded data removed]",
      "text/plain": [
       "<Figure size 1008x504 with 2 Axes>"
      ]
     },
     "metadata": {
      "needs_background": "light"
     },
     "output_type": "display_data"
    }
   ],
   "source": [
    "plt.figure(figsize=(14,7))\n",
    "corr = df.corr() #correlation of each column to one another\n",
    "# Heatmap of said correlation\n",
    "sns.heatmap(corr, annot=True)\n",
    "\n",
    "# Add label for horizontal axis\n",
    "plt.xlabel(\"Machine Maintenance Predictive data\")"
   ]
  },
  {
   "cell_type": "markdown",
   "id": "608ac912",
   "metadata": {},
   "source": [
    "Air temperature [K] and Process temperature [K] are highly correlated. This is expected as in the description of this dataset, the following is mentioned:\n",
    "<ul>\n",
    "    <li>air temperature [K]: generated using a random walk process later normalized to a standard deviation of 2 K around 300 K</li>\n",
    "    <li>process temperature [K]: generated using a random walk process normalized to a standard deviation of 1 K, added to the air temperature plus 10 K.</li>\n",
    "</ul>\n",
    "\n",
    "Failure Type and Target have a high correlation because we can have a valid failure type if the machine fails in the first place"
   ]
  },
  {
   "cell_type": "code",
   "execution_count": 20,
   "id": "5db08a1c",
   "metadata": {},
   "outputs": [],
   "source": [
    "col_names = [\"Air temperature [K]\",\"Process temperature [K]\"]\n",
    "features = df[col_names]\n",
    "scaler = StandardScaler().fit(features.values)\n",
    "features = scaler.transform(features.values)\n",
    "df[col_names] = features"
   ]
  },
  {
   "cell_type": "code",
   "execution_count": 21,
   "id": "2505c21c",
   "metadata": {},
   "outputs": [
    {
     "data": {
      "text/html": [
       "<div>\n",
       "<style scoped>\n",
       "    .dataframe tbody tr th:only-of-type {\n",
       "        vertical-align: middle;\n",
       "    }\n",
       "\n",
       "    .dataframe tbody tr th {\n",
       "        vertical-align: top;\n",
       "    }\n",
       "\n",
       "    .dataframe thead th {\n",
       "        text-align: right;\n",
       "    }\n",
       "</style>\n",
       "<table border=\"1\" class=\"dataframe\">\n",
       "  <thead>\n",
       "    <tr style=\"text-align: right;\">\n",
       "      <th></th>\n",
       "      <th>Type</th>\n",
       "      <th>Air temperature [K]</th>\n",
       "      <th>Process temperature [K]</th>\n",
       "      <th>Rotational speed [rpm]</th>\n",
       "      <th>Torque [Nm]</th>\n",
       "      <th>Tool wear [min]</th>\n",
       "      <th>Target</th>\n",
       "      <th>Failure Type</th>\n",
       "    </tr>\n",
       "    <tr>\n",
       "      <th>Product ID</th>\n",
       "      <th></th>\n",
       "      <th></th>\n",
       "      <th></th>\n",
       "      <th></th>\n",
       "      <th></th>\n",
       "      <th></th>\n",
       "      <th></th>\n",
       "      <th></th>\n",
       "    </tr>\n",
       "  </thead>\n",
       "  <tbody>\n",
       "    <tr>\n",
       "      <th>M14860</th>\n",
       "      <td>2</td>\n",
       "      <td>-0.952389</td>\n",
       "      <td>-0.947360</td>\n",
       "      <td>1551</td>\n",
       "      <td>42.8</td>\n",
       "      <td>0</td>\n",
       "      <td>0</td>\n",
       "      <td>1</td>\n",
       "    </tr>\n",
       "    <tr>\n",
       "      <th>L47181</th>\n",
       "      <td>1</td>\n",
       "      <td>-0.902393</td>\n",
       "      <td>-0.879959</td>\n",
       "      <td>1408</td>\n",
       "      <td>46.3</td>\n",
       "      <td>3</td>\n",
       "      <td>0</td>\n",
       "      <td>1</td>\n",
       "    </tr>\n",
       "    <tr>\n",
       "      <th>L47182</th>\n",
       "      <td>1</td>\n",
       "      <td>-0.952389</td>\n",
       "      <td>-1.014761</td>\n",
       "      <td>1498</td>\n",
       "      <td>49.4</td>\n",
       "      <td>5</td>\n",
       "      <td>0</td>\n",
       "      <td>1</td>\n",
       "    </tr>\n",
       "    <tr>\n",
       "      <th>L47183</th>\n",
       "      <td>1</td>\n",
       "      <td>-0.902393</td>\n",
       "      <td>-0.947360</td>\n",
       "      <td>1433</td>\n",
       "      <td>39.5</td>\n",
       "      <td>7</td>\n",
       "      <td>0</td>\n",
       "      <td>1</td>\n",
       "    </tr>\n",
       "    <tr>\n",
       "      <th>L47184</th>\n",
       "      <td>1</td>\n",
       "      <td>-0.902393</td>\n",
       "      <td>-0.879959</td>\n",
       "      <td>1408</td>\n",
       "      <td>40.0</td>\n",
       "      <td>9</td>\n",
       "      <td>0</td>\n",
       "      <td>1</td>\n",
       "    </tr>\n",
       "  </tbody>\n",
       "</table>\n",
       "</div>"
      ],
      "text/plain": [
       "            Type  Air temperature [K]  Process temperature [K]  \\\n",
       "Product ID                                                       \n",
       "M14860         2            -0.952389                -0.947360   \n",
       "L47181         1            -0.902393                -0.879959   \n",
       "L47182         1            -0.952389                -1.014761   \n",
       "L47183         1            -0.902393                -0.947360   \n",
       "L47184         1            -0.902393                -0.879959   \n",
       "\n",
       "            Rotational speed [rpm]  Torque [Nm]  Tool wear [min]  Target  \\\n",
       "Product ID                                                                 \n",
       "M14860                        1551         42.8                0       0   \n",
       "L47181                        1408         46.3                3       0   \n",
       "L47182                        1498         49.4                5       0   \n",
       "L47183                        1433         39.5                7       0   \n",
       "L47184                        1408         40.0                9       0   \n",
       "\n",
       "            Failure Type  \n",
       "Product ID                \n",
       "M14860                 1  \n",
       "L47181                 1  \n",
       "L47182                 1  \n",
       "L47183                 1  \n",
       "L47184                 1  "
      ]
     },
     "execution_count": 21,
     "metadata": {},
     "output_type": "execute_result"
    }
   ],
   "source": [
    "df.head()"
   ]
  },
  {
   "cell_type": "code",
   "execution_count": 22,
   "id": "0eacff18",
   "metadata": {},
   "outputs": [],
   "source": [
    "pca = PCA(n_components=2)\n",
    "principalComponents = pca.fit_transform(df.loc[:,\"Air temperature [K]\" :\"Process temperature [K]\"])\n",
    "pca_X = pd.DataFrame(data = principalComponents\n",
    "             , columns = ['pca1', 'pca2'])\n"
   ]
  },
  {
   "cell_type": "code",
   "execution_count": 23,
   "id": "a6c8314e",
   "metadata": {},
   "outputs": [],
   "source": [
    "df = df.reset_index()"
   ]
  },
  {
   "cell_type": "code",
   "execution_count": 24,
   "id": "de90885e",
   "metadata": {},
   "outputs": [],
   "source": [
    "df = df.join(pca_X)"
   ]
  },
  {
   "cell_type": "code",
   "execution_count": 25,
   "id": "61d81f23",
   "metadata": {},
   "outputs": [],
   "source": [
    "df.drop(['Air temperature [K]','Process temperature [K]'], axis=1, inplace=True)"
   ]
  },
  {
   "cell_type": "code",
   "execution_count": 26,
   "id": "d1b27e72",
   "metadata": {},
   "outputs": [],
   "source": [
    "df = df.set_index(\"Product ID\")"
   ]
  },
  {
   "cell_type": "code",
   "execution_count": 27,
   "id": "59d810c4",
   "metadata": {},
   "outputs": [
    {
     "data": {
      "text/plain": [
       "Text(0.5, 42.0, 'Machine Maintenance Predictive data')"
      ]
     },
     "execution_count": 27,
     "metadata": {},
     "output_type": "execute_result"
    },
    {
     "data": {
      "image/png": "[encoded data removed]",
      "text/plain": [
       "<Figure size 1008x504 with 2 Axes>"
      ]
     },
     "metadata": {
      "needs_background": "light"
     },
     "output_type": "display_data"
    }
   ],
   "source": [
    "plt.figure(figsize=(14,7))\n",
    "corr = df.corr() #correlation of each column to one another\n",
    "# Heatmap of said correlation\n",
    "sns.heatmap(corr, annot=True)\n",
    "\n",
    "# Add label for horizontal axis\n",
    "plt.xlabel(\"Machine Maintenance Predictive data\")"
   ]
  },
  {
   "cell_type": "code",
   "execution_count": 28,
   "id": "1bdfeb47",
   "metadata": {},
   "outputs": [
    {
     "data": {
      "text/html": [
       "<div>\n",
       "<style scoped>\n",
       "    .dataframe tbody tr th:only-of-type {\n",
       "        vertical-align: middle;\n",
       "    }\n",
       "\n",
       "    .dataframe tbody tr th {\n",
       "        vertical-align: top;\n",
       "    }\n",
       "\n",
       "    .dataframe thead th {\n",
       "        text-align: right;\n",
       "    }\n",
       "</style>\n",
       "<table border=\"1\" class=\"dataframe\">\n",
       "  <thead>\n",
       "    <tr style=\"text-align: right;\">\n",
       "      <th></th>\n",
       "      <th>Type</th>\n",
       "      <th>Rotational speed [rpm]</th>\n",
       "      <th>Torque [Nm]</th>\n",
       "      <th>Tool wear [min]</th>\n",
       "      <th>Target</th>\n",
       "      <th>Failure Type</th>\n",
       "      <th>pca1</th>\n",
       "      <th>pca2</th>\n",
       "    </tr>\n",
       "    <tr>\n",
       "      <th>Product ID</th>\n",
       "      <th></th>\n",
       "      <th></th>\n",
       "      <th></th>\n",
       "      <th></th>\n",
       "      <th></th>\n",
       "      <th></th>\n",
       "      <th></th>\n",
       "      <th></th>\n",
       "    </tr>\n",
       "  </thead>\n",
       "  <tbody>\n",
       "    <tr>\n",
       "      <th>M14860</th>\n",
       "      <td>2</td>\n",
       "      <td>1551</td>\n",
       "      <td>42.8</td>\n",
       "      <td>0</td>\n",
       "      <td>0</td>\n",
       "      <td>1</td>\n",
       "      <td>1.343326</td>\n",
       "      <td>0.003556</td>\n",
       "    </tr>\n",
       "    <tr>\n",
       "      <th>L47181</th>\n",
       "      <td>1</td>\n",
       "      <td>1408</td>\n",
       "      <td>46.3</td>\n",
       "      <td>3</td>\n",
       "      <td>0</td>\n",
       "      <td>1</td>\n",
       "      <td>1.260313</td>\n",
       "      <td>0.015864</td>\n",
       "    </tr>\n",
       "    <tr>\n",
       "      <th>L47182</th>\n",
       "      <td>1</td>\n",
       "      <td>1498</td>\n",
       "      <td>49.4</td>\n",
       "      <td>5</td>\n",
       "      <td>0</td>\n",
       "      <td>1</td>\n",
       "      <td>1.390985</td>\n",
       "      <td>-0.044103</td>\n",
       "    </tr>\n",
       "    <tr>\n",
       "      <th>L47183</th>\n",
       "      <td>1</td>\n",
       "      <td>1433</td>\n",
       "      <td>39.5</td>\n",
       "      <td>7</td>\n",
       "      <td>0</td>\n",
       "      <td>1</td>\n",
       "      <td>1.307973</td>\n",
       "      <td>-0.031796</td>\n",
       "    </tr>\n",
       "    <tr>\n",
       "      <th>L47184</th>\n",
       "      <td>1</td>\n",
       "      <td>1408</td>\n",
       "      <td>40.0</td>\n",
       "      <td>9</td>\n",
       "      <td>0</td>\n",
       "      <td>1</td>\n",
       "      <td>1.260313</td>\n",
       "      <td>0.015864</td>\n",
       "    </tr>\n",
       "  </tbody>\n",
       "</table>\n",
       "</div>"
      ],
      "text/plain": [
       "            Type  Rotational speed [rpm]  Torque [Nm]  Tool wear [min]  \\\n",
       "Product ID                                                               \n",
       "M14860         2                    1551         42.8                0   \n",
       "L47181         1                    1408         46.3                3   \n",
       "L47182         1                    1498         49.4                5   \n",
       "L47183         1                    1433         39.5                7   \n",
       "L47184         1                    1408         40.0                9   \n",
       "\n",
       "            Target  Failure Type      pca1      pca2  \n",
       "Product ID                                            \n",
       "M14860           0             1  1.343326  0.003556  \n",
       "L47181           0             1  1.260313  0.015864  \n",
       "L47182           0             1  1.390985 -0.044103  \n",
       "L47183           0             1  1.307973 -0.031796  \n",
       "L47184           0             1  1.260313  0.015864  "
      ]
     },
     "execution_count": 28,
     "metadata": {},
     "output_type": "execute_result"
    }
   ],
   "source": [
    "df.head()"
   ]
  },
  {
   "cell_type": "markdown",
   "id": "99ecfb9e",
   "metadata": {},
   "source": [
    "<h1>Modelling</h1>"
   ]
  },
  {
   "cell_type": "code",
   "execution_count": 29,
   "id": "ef70f03a",
   "metadata": {},
   "outputs": [],
   "source": [
    "y_features = ['Target','Failure Type']\n",
    "y = df[y_features]"
   ]
  },
  {
   "cell_type": "code",
   "execution_count": 30,
   "id": "74ffa3a3",
   "metadata": {},
   "outputs": [],
   "source": [
    "df_train, df_test, y_train, y_test = train_test_split(df.drop(y_features, axis=1), df[y_features], test_size=0.20, random_state=42, shuffle = True, stratify = y)"
   ]
  },
  {
   "cell_type": "code",
   "execution_count": 31,
   "id": "02d802f3",
   "metadata": {},
   "outputs": [],
   "source": [
    "pipe_lr = Pipeline(steps=[('lr_multi',MultiOutputClassifier(LogisticRegression()))])"
   ]
  },
  {
   "cell_type": "code",
   "execution_count": 32,
   "id": "82be8536",
   "metadata": {},
   "outputs": [
    {
     "name": "stderr",
     "output_type": "stream",
     "text": [
      "c:\\users\\mroy\\.pyenv\\pyenv-win\\versions\\3.7.9\\lib\\site-packages\\sklearn\\linear_model\\_logistic.py:818: ConvergenceWarning: lbfgs failed to converge (status=1):\n",
      "STOP: TOTAL NO. of ITERATIONS REACHED LIMIT.\n",
      "\n",
      "Increase the number of iterations (max_iter) or scale the data as shown in:\n",
      "    https://scikit-learn.org/stable/modules/preprocessing.html\n",
      "Please also refer to the documentation for alternative solver options:\n",
      "    https://scikit-learn.org/stable/modules/linear_model.html#logistic-regression\n",
      "  extra_warning_msg=_LOGISTIC_SOLVER_CONVERGENCE_MSG,\n",
      "c:\\users\\mroy\\.pyenv\\pyenv-win\\versions\\3.7.9\\lib\\site-packages\\sklearn\\linear_model\\_logistic.py:818: ConvergenceWarning: lbfgs failed to converge (status=1):\n",
      "STOP: TOTAL NO. of ITERATIONS REACHED LIMIT.\n",
      "\n",
      "Increase the number of iterations (max_iter) or scale the data as shown in:\n",
      "    https://scikit-learn.org/stable/modules/preprocessing.html\n",
      "Please also refer to the documentation for alternative solver options:\n",
      "    https://scikit-learn.org/stable/modules/linear_model.html#logistic-regression\n",
      "  extra_warning_msg=_LOGISTIC_SOLVER_CONVERGENCE_MSG,\n"
     ]
    },
    {
     "data": {
      "text/plain": [
       "Pipeline(steps=[('lr_multi',\n",
       "                 MultiOutputClassifier(estimator=LogisticRegression()))])"
      ]
     },
     "execution_count": 32,
     "metadata": {},
     "output_type": "execute_result"
    }
   ],
   "source": [
    "pipe_lr.fit(df_train, y_train)"
   ]
  },
  {
   "cell_type": "code",
   "execution_count": 33,
   "id": "c2918c78",
   "metadata": {},
   "outputs": [
    {
     "data": {
      "text/plain": [
       "0.96325"
      ]
     },
     "execution_count": 33,
     "metadata": {},
     "output_type": "execute_result"
    }
   ],
   "source": [
    "pipe_lr.score(df_train,y_train)"
   ]
  },
  {
   "cell_type": "markdown",
   "id": "4c1315a4",
   "metadata": {},
   "source": [
    "Training set score is 96.3%"
   ]
  },
  {
   "cell_type": "code",
   "execution_count": 34,
   "id": "ffbf6ef2",
   "metadata": {},
   "outputs": [
    {
     "data": {
      "text/plain": [
       "0.964"
      ]
     },
     "execution_count": 34,
     "metadata": {},
     "output_type": "execute_result"
    }
   ],
   "source": [
    "pipe_lr.score(df_test,y_test)"
   ]
  },
  {
   "cell_type": "markdown",
   "id": "745b3329",
   "metadata": {},
   "source": [
    "Test score is 96.4%"
   ]
  },
  {
   "cell_type": "code",
   "execution_count": 35,
   "id": "89907d0b",
   "metadata": {},
   "outputs": [
    {
     "data": {
      "text/html": [
       "<div>\n",
       "<style scoped>\n",
       "    .dataframe tbody tr th:only-of-type {\n",
       "        vertical-align: middle;\n",
       "    }\n",
       "\n",
       "    .dataframe tbody tr th {\n",
       "        vertical-align: top;\n",
       "    }\n",
       "\n",
       "    .dataframe thead th {\n",
       "        text-align: right;\n",
       "    }\n",
       "</style>\n",
       "<table border=\"1\" class=\"dataframe\">\n",
       "  <thead>\n",
       "    <tr style=\"text-align: right;\">\n",
       "      <th></th>\n",
       "      <th>0</th>\n",
       "      <th>1</th>\n",
       "    </tr>\n",
       "  </thead>\n",
       "  <tbody>\n",
       "    <tr>\n",
       "      <th>0</th>\n",
       "      <td>0</td>\n",
       "      <td>1</td>\n",
       "    </tr>\n",
       "    <tr>\n",
       "      <th>1</th>\n",
       "      <td>0</td>\n",
       "      <td>1</td>\n",
       "    </tr>\n",
       "    <tr>\n",
       "      <th>2</th>\n",
       "      <td>0</td>\n",
       "      <td>1</td>\n",
       "    </tr>\n",
       "    <tr>\n",
       "      <th>3</th>\n",
       "      <td>0</td>\n",
       "      <td>1</td>\n",
       "    </tr>\n",
       "    <tr>\n",
       "      <th>4</th>\n",
       "      <td>0</td>\n",
       "      <td>1</td>\n",
       "    </tr>\n",
       "    <tr>\n",
       "      <th>...</th>\n",
       "      <td>...</td>\n",
       "      <td>...</td>\n",
       "    </tr>\n",
       "    <tr>\n",
       "      <th>1995</th>\n",
       "      <td>0</td>\n",
       "      <td>1</td>\n",
       "    </tr>\n",
       "    <tr>\n",
       "      <th>1996</th>\n",
       "      <td>0</td>\n",
       "      <td>1</td>\n",
       "    </tr>\n",
       "    <tr>\n",
       "      <th>1997</th>\n",
       "      <td>0</td>\n",
       "      <td>1</td>\n",
       "    </tr>\n",
       "    <tr>\n",
       "      <th>1998</th>\n",
       "      <td>0</td>\n",
       "      <td>1</td>\n",
       "    </tr>\n",
       "    <tr>\n",
       "      <th>1999</th>\n",
       "      <td>0</td>\n",
       "      <td>1</td>\n",
       "    </tr>\n",
       "  </tbody>\n",
       "</table>\n",
       "<p>2000 rows × 2 columns</p>\n",
       "</div>"
      ],
      "text/plain": [
       "      0  1\n",
       "0     0  1\n",
       "1     0  1\n",
       "2     0  1\n",
       "3     0  1\n",
       "4     0  1\n",
       "...  .. ..\n",
       "1995  0  1\n",
       "1996  0  1\n",
       "1997  0  1\n",
       "1998  0  1\n",
       "1999  0  1\n",
       "\n",
       "[2000 rows x 2 columns]"
      ]
     },
     "execution_count": 35,
     "metadata": {},
     "output_type": "execute_result"
    }
   ],
   "source": [
    "y_pred = pd.DataFrame(pipe_lr.predict(df_test))\n",
    "y_pred"
   ]
  },
  {
   "cell_type": "code",
   "execution_count": 36,
   "id": "04bb1997",
   "metadata": {},
   "outputs": [
    {
     "data": {
      "text/html": [
       "<div>\n",
       "<style scoped>\n",
       "    .dataframe tbody tr th:only-of-type {\n",
       "        vertical-align: middle;\n",
       "    }\n",
       "\n",
       "    .dataframe tbody tr th {\n",
       "        vertical-align: top;\n",
       "    }\n",
       "\n",
       "    .dataframe thead th {\n",
       "        text-align: right;\n",
       "    }\n",
       "</style>\n",
       "<table border=\"1\" class=\"dataframe\">\n",
       "  <thead>\n",
       "    <tr style=\"text-align: right;\">\n",
       "      <th></th>\n",
       "      <th>Target</th>\n",
       "      <th>Failure Type</th>\n",
       "    </tr>\n",
       "    <tr>\n",
       "      <th>Product ID</th>\n",
       "      <th></th>\n",
       "      <th></th>\n",
       "    </tr>\n",
       "  </thead>\n",
       "  <tbody>\n",
       "    <tr>\n",
       "      <th>L53705</th>\n",
       "      <td>1</td>\n",
       "      <td>3</td>\n",
       "    </tr>\n",
       "    <tr>\n",
       "      <th>M24814</th>\n",
       "      <td>0</td>\n",
       "      <td>1</td>\n",
       "    </tr>\n",
       "    <tr>\n",
       "      <th>M19733</th>\n",
       "      <td>0</td>\n",
       "      <td>1</td>\n",
       "    </tr>\n",
       "    <tr>\n",
       "      <th>L54426</th>\n",
       "      <td>0</td>\n",
       "      <td>1</td>\n",
       "    </tr>\n",
       "    <tr>\n",
       "      <th>L50027</th>\n",
       "      <td>0</td>\n",
       "      <td>1</td>\n",
       "    </tr>\n",
       "    <tr>\n",
       "      <th>...</th>\n",
       "      <td>...</td>\n",
       "      <td>...</td>\n",
       "    </tr>\n",
       "    <tr>\n",
       "      <th>H31955</th>\n",
       "      <td>0</td>\n",
       "      <td>1</td>\n",
       "    </tr>\n",
       "    <tr>\n",
       "      <th>L53070</th>\n",
       "      <td>0</td>\n",
       "      <td>1</td>\n",
       "    </tr>\n",
       "    <tr>\n",
       "      <th>L53474</th>\n",
       "      <td>0</td>\n",
       "      <td>1</td>\n",
       "    </tr>\n",
       "    <tr>\n",
       "      <th>L52398</th>\n",
       "      <td>0</td>\n",
       "      <td>1</td>\n",
       "    </tr>\n",
       "    <tr>\n",
       "      <th>M22417</th>\n",
       "      <td>0</td>\n",
       "      <td>1</td>\n",
       "    </tr>\n",
       "  </tbody>\n",
       "</table>\n",
       "<p>2000 rows × 2 columns</p>\n",
       "</div>"
      ],
      "text/plain": [
       "            Target  Failure Type\n",
       "Product ID                      \n",
       "L53705           1             3\n",
       "M24814           0             1\n",
       "M19733           0             1\n",
       "L54426           0             1\n",
       "L50027           0             1\n",
       "...            ...           ...\n",
       "H31955           0             1\n",
       "L53070           0             1\n",
       "L53474           0             1\n",
       "L52398           0             1\n",
       "M22417           0             1\n",
       "\n",
       "[2000 rows x 2 columns]"
      ]
     },
     "execution_count": 36,
     "metadata": {},
     "output_type": "execute_result"
    }
   ],
   "source": [
    "y_test"
   ]
  },
  {
   "cell_type": "code",
   "execution_count": 37,
   "id": "f11ac77d",
   "metadata": {},
   "outputs": [],
   "source": [
    "matrix_Target = confusion_matrix(y_test['Target'], y_pred[0])"
   ]
  },
  {
   "cell_type": "code",
   "execution_count": 38,
   "id": "837c2f7d",
   "metadata": {},
   "outputs": [
    {
     "name": "stdout",
     "output_type": "stream",
     "text": [
      "Confusion matrix : \n",
      " [[1929    0]\n",
      " [  70    1]]\n"
     ]
    }
   ],
   "source": [
    "print('Confusion matrix : \\n',matrix_Target)"
   ]
  },
  {
   "cell_type": "code",
   "execution_count": 39,
   "id": "fc2ede11",
   "metadata": {},
   "outputs": [
    {
     "data": {
      "text/html": [
       "<div>\n",
       "<style scoped>\n",
       "    .dataframe tbody tr th:only-of-type {\n",
       "        vertical-align: middle;\n",
       "    }\n",
       "\n",
       "    .dataframe tbody tr th {\n",
       "        vertical-align: top;\n",
       "    }\n",
       "\n",
       "    .dataframe thead tr th {\n",
       "        text-align: left;\n",
       "    }\n",
       "</style>\n",
       "<table border=\"1\" class=\"dataframe\">\n",
       "  <thead>\n",
       "    <tr>\n",
       "      <th></th>\n",
       "      <th></th>\n",
       "      <th colspan=\"2\" halign=\"left\">Predicted Values</th>\n",
       "    </tr>\n",
       "    <tr>\n",
       "      <th></th>\n",
       "      <th></th>\n",
       "      <th>No Failure</th>\n",
       "      <th>Failure</th>\n",
       "    </tr>\n",
       "  </thead>\n",
       "  <tbody>\n",
       "    <tr>\n",
       "      <th rowspan=\"2\" valign=\"top\">Actual Values</th>\n",
       "      <th>No Failure</th>\n",
       "      <td>1929</td>\n",
       "      <td>0</td>\n",
       "    </tr>\n",
       "    <tr>\n",
       "      <th>Failure</th>\n",
       "      <td>70</td>\n",
       "      <td>1</td>\n",
       "    </tr>\n",
       "  </tbody>\n",
       "</table>\n",
       "</div>"
      ],
      "text/plain": [
       "                         Predicted Values        \n",
       "                               No Failure Failure\n",
       "Actual Values No Failure             1929       0\n",
       "              Failure                  70       1"
      ]
     },
     "execution_count": 39,
     "metadata": {},
     "output_type": "execute_result"
    }
   ],
   "source": [
    "muxc = pd.MultiIndex.from_product([['Predicted Values'], ['No Failure', 'Failure']])\n",
    "muxi = pd.MultiIndex.from_product([['Actual Values'], ['No Failure', 'Failure']])\n",
    "\n",
    "df_mat_target = pd.DataFrame(matrix_Target, columns = muxc, index = muxi)\n",
    "df_mat_target"
   ]
  },
  {
   "cell_type": "code",
   "execution_count": 40,
   "id": "56d72290",
   "metadata": {},
   "outputs": [],
   "source": [
    "matrix_FailureType = confusion_matrix(y_test['Failure Type'], y_pred[1], labels=[0,1,2,3,4,5])"
   ]
  },
  {
   "cell_type": "code",
   "execution_count": 41,
   "id": "fc750cf1",
   "metadata": {},
   "outputs": [
    {
     "name": "stdout",
     "output_type": "stream",
     "text": [
      "Confusion matrix : \n",
      " [[   0   21    1    0    0    0]\n",
      " [   0 1928    1    0    0    0]\n",
      " [   0   11    5    0    0    0]\n",
      " [   0   19    0    0    0    0]\n",
      " [   0    5    0    0    0    0]\n",
      " [   0    8    1    0    0    0]]\n"
     ]
    }
   ],
   "source": [
    "print('Confusion matrix : \\n',matrix_FailureType)"
   ]
  },
  {
   "cell_type": "code",
   "execution_count": 42,
   "id": "af64efb5",
   "metadata": {},
   "outputs": [
    {
     "data": {
      "text/plain": [
       "['Heat Dissipation Failure',\n",
       " 'No Failure',\n",
       " 'Overstrain Failure',\n",
       " 'Power Failure',\n",
       " 'Random Failures',\n",
       " 'Tool Wear Failure']"
      ]
     },
     "execution_count": 42,
     "metadata": {},
     "output_type": "execute_result"
    }
   ],
   "source": [
    "le_name_mapping = dict(zip(le.transform(le.classes_), le.classes_))\n",
    "le_name_list = [None]*len(le_name_mapping)\n",
    "for key in le_name_mapping:\n",
    "    le_name_list[key] = le_name_mapping[key]\n",
    "le_name_list"
   ]
  },
  {
   "cell_type": "code",
   "execution_count": 43,
   "id": "f93e2a6c",
   "metadata": {},
   "outputs": [
    {
     "data": {
      "text/html": [
       "<div>\n",
       "<style scoped>\n",
       "    .dataframe tbody tr th:only-of-type {\n",
       "        vertical-align: middle;\n",
       "    }\n",
       "\n",
       "    .dataframe tbody tr th {\n",
       "        vertical-align: top;\n",
       "    }\n",
       "\n",
       "    .dataframe thead tr th {\n",
       "        text-align: left;\n",
       "    }\n",
       "</style>\n",
       "<table border=\"1\" class=\"dataframe\">\n",
       "  <thead>\n",
       "    <tr>\n",
       "      <th></th>\n",
       "      <th></th>\n",
       "      <th colspan=\"6\" halign=\"left\">Predicted Values</th>\n",
       "    </tr>\n",
       "    <tr>\n",
       "      <th></th>\n",
       "      <th></th>\n",
       "      <th>Heat Dissipation Failure</th>\n",
       "      <th>No Failure</th>\n",
       "      <th>Overstrain Failure</th>\n",
       "      <th>Power Failure</th>\n",
       "      <th>Random Failures</th>\n",
       "      <th>Tool Wear Failure</th>\n",
       "    </tr>\n",
       "  </thead>\n",
       "  <tbody>\n",
       "    <tr>\n",
       "      <th rowspan=\"6\" valign=\"top\">Actual Values</th>\n",
       "      <th>Heat Dissipation Failure</th>\n",
       "      <td>0</td>\n",
       "      <td>21</td>\n",
       "      <td>1</td>\n",
       "      <td>0</td>\n",
       "      <td>0</td>\n",
       "      <td>0</td>\n",
       "    </tr>\n",
       "    <tr>\n",
       "      <th>No Failure</th>\n",
       "      <td>0</td>\n",
       "      <td>1928</td>\n",
       "      <td>1</td>\n",
       "      <td>0</td>\n",
       "      <td>0</td>\n",
       "      <td>0</td>\n",
       "    </tr>\n",
       "    <tr>\n",
       "      <th>Overstrain Failure</th>\n",
       "      <td>0</td>\n",
       "      <td>11</td>\n",
       "      <td>5</td>\n",
       "      <td>0</td>\n",
       "      <td>0</td>\n",
       "      <td>0</td>\n",
       "    </tr>\n",
       "    <tr>\n",
       "      <th>Power Failure</th>\n",
       "      <td>0</td>\n",
       "      <td>19</td>\n",
       "      <td>0</td>\n",
       "      <td>0</td>\n",
       "      <td>0</td>\n",
       "      <td>0</td>\n",
       "    </tr>\n",
       "    <tr>\n",
       "      <th>Random Failures</th>\n",
       "      <td>0</td>\n",
       "      <td>5</td>\n",
       "      <td>0</td>\n",
       "      <td>0</td>\n",
       "      <td>0</td>\n",
       "      <td>0</td>\n",
       "    </tr>\n",
       "    <tr>\n",
       "      <th>Tool Wear Failure</th>\n",
       "      <td>0</td>\n",
       "      <td>8</td>\n",
       "      <td>1</td>\n",
       "      <td>0</td>\n",
       "      <td>0</td>\n",
       "      <td>0</td>\n",
       "    </tr>\n",
       "  </tbody>\n",
       "</table>\n",
       "</div>"
      ],
      "text/plain": [
       "                                               Predicted Values             \\\n",
       "                                       Heat Dissipation Failure No Failure   \n",
       "Actual Values Heat Dissipation Failure                        0         21   \n",
       "              No Failure                                      0       1928   \n",
       "              Overstrain Failure                              0         11   \n",
       "              Power Failure                                   0         19   \n",
       "              Random Failures                                 0          5   \n",
       "              Tool Wear Failure                               0          8   \n",
       "\n",
       "                                                                         \\\n",
       "                                       Overstrain Failure Power Failure   \n",
       "Actual Values Heat Dissipation Failure                  1             0   \n",
       "              No Failure                                1             0   \n",
       "              Overstrain Failure                        5             0   \n",
       "              Power Failure                             0             0   \n",
       "              Random Failures                           0             0   \n",
       "              Tool Wear Failure                         1             0   \n",
       "\n",
       "                                                                          \n",
       "                                       Random Failures Tool Wear Failure  \n",
       "Actual Values Heat Dissipation Failure               0                 0  \n",
       "              No Failure                             0                 0  \n",
       "              Overstrain Failure                     0                 0  \n",
       "              Power Failure                          0                 0  \n",
       "              Random Failures                        0                 0  \n",
       "              Tool Wear Failure                      0                 0  "
      ]
     },
     "execution_count": 43,
     "metadata": {},
     "output_type": "execute_result"
    }
   ],
   "source": [
    "muxc = pd.MultiIndex.from_product([['Predicted Values'], le_name_list])\n",
    "muxi = pd.MultiIndex.from_product([['Actual Values'], le_name_list])\n",
    "\n",
    "df_mat_failuretype = pd.DataFrame(matrix_FailureType, columns = muxc, index = muxi)\n",
    "df_mat_failuretype"
   ]
  }
 ],
 "metadata": {
  "kernelspec": {
   "display_name": "Python 3 (ipykernel)",
   "language": "python",
   "name": "python3"
  },
  "language_info": {
   "codemirror_mode": {
    "name": "ipython",
    "version": 3
   },
   "file_extension": ".py",
   "mimetype": "text/x-python",
   "name": "python",
   "nbconvert_exporter": "python",
   "pygments_lexer": "ipython3",
   "version": "3.7.9"
  }
 },
 "nbformat": 4,
 "nbformat_minor": 5
}
